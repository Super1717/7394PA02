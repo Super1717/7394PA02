{
 "cells": [
  {
   "cell_type": "markdown",
   "id": "245918b3-be3c-4d1f-9a58-7f2a88d01183",
   "metadata": {},
   "source": [
    "# Project 2\n",
    "### CS 5/7394 - Applied Machine Learning\n",
    "\n",
    "- **Due** - March 23 @ 11:59 pm pushed to Github repo\n",
    "- **Teams** - You can do this project solo or in pairs.  Not 3, not 4 not 5... Max of 2. If a 5394 student pairs with a 7394 student, the pair needs to do the 7394 work. "
   ]
  },
  {
   "cell_type": "markdown",
   "id": "cae9b08f-7745-4dfb-8927-258f22423720",
   "metadata": {},
   "source": [
    "Below are 6 Kaggle Datasets.  You will choose 1 to work with for this project. \n",
    "\n",
    "- [Airfare Prediction Dataset](https://www.kaggle.com/zwartfreak/airline-fare-prediction)\n",
    "- [Chinese Rest Holiday Dataset](https://www.kaggle.com/holoong9291/chinese-rest-holiday-dataset-2020-to-2022)\n",
    "- [Jigsaw Toxic Comment Classification Challenge](https://www.kaggle.com/julian3833/jigsaw-toxic-comment-classification-challenge?select=train.csv)\n",
    "- [Latest Covid 19 Dataset Worldwide](https://www.kaggle.com/sandhyakrishnan02/latest-covid-19-dataset-worldwide)\n",
    "- [Trains](https://www.kaggle.com/vahidehdashti/machinelearningdatabase-trains?select=trains-original.data)\n",
    "- [Football Data top 5 Leagues](https://www.kaggle.com/sanjeetsinghnaik/football-data-top-5-leagues)\n",
    "\n",
    "Merging disparate datasets is a staple of the data exploration process.  Therefore, for which ever data set above that you choose, you will need to independently find **an additional** dataset to merge with your selection.  The only requirement is that it add to the richness of the original dataset. Students in the 7000-level version of the class need to find two additional data sets to merge with the original selection. \n",
    "\n",
    "_Note_: If you want to start with a different data set, you need to get Fontenot's OK first.  "
   ]
  },
  {
   "cell_type": "markdown",
   "id": "126330db-b29f-46d9-b16e-7811612a9e73",
   "metadata": {},
   "source": [
    "### Your Tasks\n",
    "\n",
    "Below, there are cells that provide directions on what to do for the project.  \n",
    "\n",
    "You can insert as many cells between the ones below as you'd like, but please **Do NOT** change the cells already provided. "
   ]
  },
  {
   "cell_type": "markdown",
   "id": "0f2ca87f-07eb-4792-b76e-15f2f01d1408",
   "metadata": {},
   "source": [
    "### Part 1 - Getting Started\n",
    "\n",
    "- Import libraries\n",
    "- Load original Data (which ever one you chose from the provided list) into a data frame. \n",
    "- Load your additional data set(s) into a data frame. \n",
    "- In a markdown cell, provide a brief description of your the data sets you've chosen to work with.  \n",
    "- Develop a list of 3 - 4 questions that you hope to be able to answer after the exploration of the data and write them in this section. "
   ]
  },
  {
   "cell_type": "markdown",
   "id": "faee29a9-ee52-44a6-9a79-00c5fdda200f",
   "metadata": {},
   "source": [
    "#### Import Libraries"
   ]
  },
  {
   "cell_type": "code",
   "execution_count": 2,
   "id": "da0c75b0-6249-4116-ab37-6673f29af53f",
   "metadata": {},
   "outputs": [],
   "source": [
    "import pandas as pd\n",
    "import matplotlib as mpl\n",
    "import matplotlib.pyplot as plt\n",
    "import numpy as np\n",
    "import seaborn as sns"
   ]
  },
  {
   "cell_type": "markdown",
   "id": "6f966a14-29b4-4003-902f-5abed696be2a",
   "metadata": {},
   "source": [
    "#### Load Original Data"
   ]
  },
  {
   "cell_type": "code",
   "execution_count": 5,
   "id": "44fb33a1-e20c-4643-8527-9592d0666f58",
   "metadata": {},
   "outputs": [],
   "source": [
    "flightsTest = pd.read_excel('flightsTest.xlsx',parse_dates=[1])\n",
    "flightsTrain = pd.read_excel('flightsTrain.xlsx', parse_dates = [1])"
   ]
  },
  {
   "cell_type": "code",
   "execution_count": 13,
   "id": "f0b1ecd6-c0b8-4932-a774-309ad49911dc",
   "metadata": {},
   "outputs": [
    {
     "data": {
      "text/plain": [
       "count                            10683\n",
       "mean     2019-05-29 12:13:00.454928384\n",
       "min                2019-01-03 00:00:00\n",
       "25%                2019-03-24 00:00:00\n",
       "50%                2019-05-24 00:00:00\n",
       "75%                2019-06-27 00:00:00\n",
       "max                2019-12-06 00:00:00\n",
       "Name: Date_of_Journey, dtype: object"
      ]
     },
     "execution_count": 13,
     "metadata": {},
     "output_type": "execute_result"
    }
   ],
   "source": [
    "flightsTrain['Date_of_Journey'].describe(datetime_is_numeric=True)"
   ]
  },
  {
   "cell_type": "markdown",
   "id": "4a4a31df-699a-46cc-b9b5-2e2917012100",
   "metadata": {},
   "source": [
    "#### Load Additional Data Sets"
   ]
  },
  {
   "cell_type": "code",
   "execution_count": 18,
   "id": "778f752a-661c-40b8-8a94-2bd4c7e32fcd",
   "metadata": {
    "tags": []
   },
   "outputs": [],
   "source": [
    "populationData = pd.read_csv('populationByCity.csv')"
   ]
  },
  {
   "cell_type": "code",
   "execution_count": 19,
   "id": "b09b56c5-8394-4e36-9341-9d2aec0baeb6",
   "metadata": {
    "tags": []
   },
   "outputs": [],
   "source": [
    "holidayData = pd.read_csv('indian_holidays.csv',parse_dates = [0])"
   ]
  },
  {
   "cell_type": "markdown",
   "id": "097dcd81-318e-43f1-ad99-8af3ee02dc33",
   "metadata": {
    "tags": []
   },
   "source": [
    "#### Data Description"
   ]
  },
  {
   "cell_type": "markdown",
   "id": "c8cb723a-4d91-4014-9e34-5e7748575ed4",
   "metadata": {},
   "source": [
    "The original dataset I used include train/test split of flights in India. The testing dataset does not include the price column, so we cannot use it in our initial inspection. We have quite a few variables to work with being the airline, the date, to/from city, the route a plane took, departure/arrival/total time, the number of stops, and an extra column for additional information (such as in-flight meals). All of these may have an influence on the price of a ticket.\n",
    "\n",
    "\n",
    "The first additional dataset included is the population of each city in India. It also included an oridinal ranking comparing the sizes of the cities. It is important to note that these are 2022 numbers, while the original data are flights in 2019. I would be more inclined to use the ordinal rankings because they would be more relatable compared with the raw population numbers.\n",
    "\n",
    "The second additional dataset included is holidays in India. This ranges from 2017-2019, and includes both the date and holiday name."
   ]
  },
  {
   "cell_type": "markdown",
   "id": "d76516ee-6103-4a5e-b223-be62036ed0d7",
   "metadata": {},
   "source": [
    "#### Questions"
   ]
  },
  {
   "cell_type": "markdown",
   "id": "22f5a356-c115-42c7-a639-97e1dd9a4910",
   "metadata": {},
   "source": [
    "The main question to answer is: What affects the price of plane tickets?\n",
    "I will try to answer the following subproblems in this analysis:\n",
    "- Do holidays have a relationship with the price of a ticket?\n",
    "- Does the population of a city have a relationship with the price of a ticket?\n",
    "- Does date (not holiday) have a relationship with the price of a ticket?"
   ]
  },
  {
   "cell_type": "markdown",
   "id": "7dc8b1e5-3e29-4da6-8d36-0e7cf48a3e59",
   "metadata": {},
   "source": [
    "### Part 2 - Data Inspection\n",
    "\n",
    "Write some code to summarize the datasets.  Think about the following questions:\n",
    "- What type of data is each variable? (think like a data scientist here, not a computer scientist)\n",
    "- What is the total size of the data sets?\n",
    "- What time boundaries are there in the dataset?  IOW, what time frame do they span?\n",
    "- Are there any missing values in any of the variables? \n",
    "\n",
    "Do this with Intentionality.  Don't skimp. "
   ]
  },
  {
   "cell_type": "markdown",
   "id": "8da425b9-5aac-43e2-8637-95380eaaf348",
   "metadata": {},
   "source": [
    "#### What type of data is each variable?"
   ]
  },
  {
   "cell_type": "code",
   "execution_count": 20,
   "id": "ca27c096-f37a-459d-b900-9b8814c5e54d",
   "metadata": {},
   "outputs": [
    {
     "name": "stdout",
     "output_type": "stream",
     "text": [
      "<class 'pandas.core.frame.DataFrame'>\n",
      "RangeIndex: 10683 entries, 0 to 10682\n",
      "Data columns (total 11 columns):\n",
      " #   Column           Non-Null Count  Dtype         \n",
      "---  ------           --------------  -----         \n",
      " 0   Airline          10683 non-null  object        \n",
      " 1   Date_of_Journey  10683 non-null  datetime64[ns]\n",
      " 2   Source           10683 non-null  object        \n",
      " 3   Destination      10683 non-null  object        \n",
      " 4   Route            10682 non-null  object        \n",
      " 5   Dep_Time         10683 non-null  object        \n",
      " 6   Arrival_Time     10683 non-null  object        \n",
      " 7   Duration         10683 non-null  object        \n",
      " 8   Total_Stops      10682 non-null  object        \n",
      " 9   Additional Info  10683 non-null  object        \n",
      " 10  Price            10683 non-null  int64         \n",
      "dtypes: datetime64[ns](1), int64(1), object(9)\n",
      "memory usage: 918.2+ KB\n",
      "None\n",
      "<class 'pandas.core.frame.DataFrame'>\n",
      "RangeIndex: 77 entries, 0 to 76\n",
      "Data columns (total 2 columns):\n",
      " #   Column   Non-Null Count  Dtype         \n",
      "---  ------   --------------  -----         \n",
      " 0   offdate  77 non-null     datetime64[ns]\n",
      " 1   event    77 non-null     object        \n",
      "dtypes: datetime64[ns](1), object(1)\n",
      "memory usage: 1.3+ KB\n",
      "None\n",
      "<class 'pandas.core.frame.DataFrame'>\n",
      "RangeIndex: 401 entries, 0 to 400\n",
      "Data columns (total 3 columns):\n",
      " #   Column           Non-Null Count  Dtype  \n",
      "---  ------           --------------  -----  \n",
      " 0   Name             400 non-null    object \n",
      " 1   2022 Population  400 non-null    object \n",
      " 2   Population Rank  400 non-null    float64\n",
      "dtypes: float64(1), object(2)\n",
      "memory usage: 9.5+ KB\n",
      "None\n"
     ]
    }
   ],
   "source": [
    "print(flightsTrain.info())\n",
    "print(holidayData.info())\n",
    "print(populationData.info())"
   ]
  },
  {
   "cell_type": "markdown",
   "id": "13fa1798-7794-470e-b041-9384c7288f77",
   "metadata": {},
   "source": [
    "#### What is the total size of the data sets?"
   ]
  },
  {
   "cell_type": "markdown",
   "id": "767de0d5-e50d-45ae-b303-b8aed58c541c",
   "metadata": {},
   "source": [
    "#### What time boundaries are there in the dataset?  IOW, what time frame do they span?"
   ]
  },
  {
   "cell_type": "markdown",
   "id": "a53abd97-4f46-46e0-9577-2df4d9c72126",
   "metadata": {},
   "source": [
    "#### Are there any missing values in any of the variables? "
   ]
  },
  {
   "cell_type": "markdown",
   "id": "f816006c-868c-4863-b0b8-e56e8a1ec8f3",
   "metadata": {
    "tags": []
   },
   "source": [
    "### Part 3 - Data Description\n",
    "\n",
    "- Create a data description (data dictionary) for your data sets.\n",
    "    - Describe each variable\n",
    "    - If categorical, what levels are present? If the levels are encoded, what do the codes mean?\n",
    "    - If numeric, provide min, max, median and any other univariate stats you'd like to add in. \n",
    "- Where appropriate, provide histograms or other visualizations to characterize each variable. "
   ]
  },
  {
   "cell_type": "code",
   "execution_count": null,
   "id": "78e72e20-2c70-4d51-9662-d373f5c2306c",
   "metadata": {},
   "outputs": [],
   "source": []
  },
  {
   "cell_type": "markdown",
   "id": "e3afbb04-3bee-4c47-b4ba-d2bfc247492a",
   "metadata": {},
   "source": [
    "### Part 4 - Merge the data\n",
    "\n",
    "Now that you have a better feel for each of your two (or three, for the 7394 students) data sets, it is time to merge them. Describe your strategy for merging the data sets and then actually perform the merge.  \n",
    "\n",
    "Develop a strategy for verifying that the data is properly merged (hoping and finger-crossing are not valid strategies). "
   ]
  },
  {
   "cell_type": "code",
   "execution_count": null,
   "id": "6ccfb384-f695-4a49-a084-d373d45111f6",
   "metadata": {},
   "outputs": [],
   "source": []
  },
  {
   "cell_type": "markdown",
   "id": "3063ca2e-ec1b-4799-bc76-4a464fc82921",
   "metadata": {
    "tags": []
   },
   "source": [
    "### Part 5 - Explore Bivariate relationships\n",
    "\n",
    "- Choose a reasoned set of variables to explore further.  You don't have to explore all possible pairs of variables, nor do we want to grade that much.  Choose 7 - 9 variables. One should be a variable that you'd like to predict (target variable) using the others (predictor variables). \n",
    "- List your predictor variables\n",
    "- List your target variable\n",
    "- Briefly describe why you have chosen these. \n",
    "\n",
    "Use any of the available visualizations from Seaborn to explore the relationships between the variables. Explore the relationships among the predictor variables as well as the relationship between each predictor variable and the target variable.  Which of the predictor variables are most strongly related?  Are there any interesting relationships between categorical predictors and numeric predictors?  If there are any dichotomous variables, does that influence any of the relationships? Are the relationships positive or negative? \n",
    "\n",
    "Below each plot, you should provide a description and interpretation of the plot.  Make sure to include why the variables in that plot were chosen and what you hope the reader would gain from it as well. "
   ]
  },
  {
   "cell_type": "code",
   "execution_count": null,
   "id": "4058bb4e-b6a0-4d4f-b271-cd0ec29951ab",
   "metadata": {},
   "outputs": [],
   "source": []
  }
 ],
 "metadata": {
  "kernelspec": {
   "display_name": "Python 3 (ipykernel)",
   "language": "python",
   "name": "python3"
  },
  "language_info": {
   "codemirror_mode": {
    "name": "ipython",
    "version": 3
   },
   "file_extension": ".py",
   "mimetype": "text/x-python",
   "name": "python",
   "nbconvert_exporter": "python",
   "pygments_lexer": "ipython3",
   "version": "3.9.7"
  }
 },
 "nbformat": 4,
 "nbformat_minor": 5
}
